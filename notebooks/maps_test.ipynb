{
 "cells": [
  {
   "cell_type": "code",
   "execution_count": 1,
   "metadata": {},
   "outputs": [],
   "source": [
    "import numpy  as np\n",
    "import pandas as pd\n",
    "import glob\n",
    "import matplotlib.pyplot as plt\n",
    "import seaborn as sns\n",
    "\n",
    "from invisible_cities.reco.corrections        import read_maps\n",
    "from invisible_cities.io.dst_io               import load_dsts\n",
    "from invisible_cities.core.fit_functions      import profileX\n",
    "from invisible_cities.core.core_functions     import in_range\n",
    "\n",
    "from krcal.core.fit_functions                 import expo_seed\n",
    "from krcal.core    .selection_functions       import select_xy_sectors_df"
   ]
  },
  {
   "cell_type": "code",
   "execution_count": 4,
   "metadata": {},
   "outputs": [],
   "source": [
    "run_number = 8088 # 0 or negative for MC\n",
    "rcut = 100\n",
    "zcut = 100\n",
    "name = 'samp1_int4'\n",
    "outputdir = '/n/home12/tcontreras/plots/nz_analysis/'+name+'/'\n",
    "\n",
    "z_range_plot = (0, 600)\n",
    "q_range_plot = (500, 900)\n",
    "\n",
    "maps_dir = '../../data/trigger1/8087/maps/'\n",
    "sipm_map = 'map_8087_test.h5'\n",
    "pmt_map = 'map_pmt_8087_test.h5'\n",
    "this_map = read_maps(maps_dir+sipm_map)\n",
    "\n",
    "input_folder       = '../../data/trigger1/8088/kdsts/sthresh/'\n",
    "input_dst_file     = '*.h5'\n",
    "input_dsts         = glob.glob(input_folder + input_dst_file)"
   ]
  },
  {
   "cell_type": "code",
   "execution_count": 5,
   "metadata": {},
   "outputs": [],
   "source": [
    "### Load files in make R and Zcut\n",
    "dst = load_dsts(input_dsts, 'DST', 'Events')\n",
    "dst = dst.sort_values(by=['time'])"
   ]
  },
  {
   "cell_type": "code",
   "execution_count": 14,
   "metadata": {
    "scrolled": true
   },
   "outputs": [],
   "source": [
    "dst.S2q = np.zeros(np.shape(dst.S2q.to_numpy()))"
   ]
  },
  {
   "cell_type": "code",
   "execution_count": 25,
   "metadata": {},
   "outputs": [
    {
     "data": {
      "text/plain": [
       "0.0"
      ]
     },
     "execution_count": 25,
     "metadata": {},
     "output_type": "execute_result"
    }
   ],
   "source": [
    "np.mean(dst.S2q)"
   ]
  },
  {
   "cell_type": "code",
   "execution_count": null,
   "metadata": {},
   "outputs": [],
   "source": []
  },
  {
   "cell_type": "code",
   "execution_count": 3,
   "metadata": {},
   "outputs": [
    {
     "name": "stdout",
     "output_type": "stream",
     "text": [
      "S2 selection efficiency:  99.15492957746478 %\n"
     ]
    },
    {
     "data": {
      "text/html": [
       "<div>\n",
       "<style scoped>\n",
       "    .dataframe tbody tr th:only-of-type {\n",
       "        vertical-align: middle;\n",
       "    }\n",
       "\n",
       "    .dataframe tbody tr th {\n",
       "        vertical-align: top;\n",
       "    }\n",
       "\n",
       "    .dataframe thead th {\n",
       "        text-align: right;\n",
       "    }\n",
       "</style>\n",
       "<table border=\"1\" class=\"dataframe\">\n",
       "  <thead>\n",
       "    <tr style=\"text-align: right;\">\n",
       "      <th></th>\n",
       "      <th>event</th>\n",
       "      <th>time</th>\n",
       "      <th>s1_peak</th>\n",
       "      <th>s2_peak</th>\n",
       "      <th>nS1</th>\n",
       "      <th>nS2</th>\n",
       "      <th>S1w</th>\n",
       "      <th>S1h</th>\n",
       "      <th>S1e</th>\n",
       "      <th>S1t</th>\n",
       "      <th>...</th>\n",
       "      <th>Nsipm</th>\n",
       "      <th>DT</th>\n",
       "      <th>Z</th>\n",
       "      <th>Zrms</th>\n",
       "      <th>X</th>\n",
       "      <th>Y</th>\n",
       "      <th>R</th>\n",
       "      <th>Phi</th>\n",
       "      <th>Xrms</th>\n",
       "      <th>Yrms</th>\n",
       "    </tr>\n",
       "  </thead>\n",
       "  <tbody>\n",
       "    <tr>\n",
       "      <th>145</th>\n",
       "      <td>2</td>\n",
       "      <td>1.594459e+09</td>\n",
       "      <td>0</td>\n",
       "      <td>0</td>\n",
       "      <td>1</td>\n",
       "      <td>1</td>\n",
       "      <td>200.0</td>\n",
       "      <td>2.119782</td>\n",
       "      <td>11.106052</td>\n",
       "      <td>358325.0</td>\n",
       "      <td>...</td>\n",
       "      <td>29</td>\n",
       "      <td>446.148132</td>\n",
       "      <td>446.148132</td>\n",
       "      <td>2.150228</td>\n",
       "      <td>-28.417331</td>\n",
       "      <td>-5.687920</td>\n",
       "      <td>28.980979</td>\n",
       "      <td>-2.944046</td>\n",
       "      <td>27.607322</td>\n",
       "      <td>14.382642</td>\n",
       "    </tr>\n",
       "    <tr>\n",
       "      <th>155</th>\n",
       "      <td>4</td>\n",
       "      <td>1.594459e+09</td>\n",
       "      <td>0</td>\n",
       "      <td>0</td>\n",
       "      <td>1</td>\n",
       "      <td>1</td>\n",
       "      <td>150.0</td>\n",
       "      <td>1.013140</td>\n",
       "      <td>4.501678</td>\n",
       "      <td>674375.0</td>\n",
       "      <td>...</td>\n",
       "      <td>24</td>\n",
       "      <td>128.132187</td>\n",
       "      <td>128.132187</td>\n",
       "      <td>1.165750</td>\n",
       "      <td>119.119204</td>\n",
       "      <td>-110.069629</td>\n",
       "      <td>162.187262</td>\n",
       "      <td>-0.745933</td>\n",
       "      <td>10.190604</td>\n",
       "      <td>18.083337</td>\n",
       "    </tr>\n",
       "    <tr>\n",
       "      <th>156</th>\n",
       "      <td>5</td>\n",
       "      <td>1.594459e+09</td>\n",
       "      <td>0</td>\n",
       "      <td>0</td>\n",
       "      <td>1</td>\n",
       "      <td>1</td>\n",
       "      <td>275.0</td>\n",
       "      <td>2.415916</td>\n",
       "      <td>12.191276</td>\n",
       "      <td>512750.0</td>\n",
       "      <td>...</td>\n",
       "      <td>26</td>\n",
       "      <td>290.724640</td>\n",
       "      <td>290.724640</td>\n",
       "      <td>1.765192</td>\n",
       "      <td>-78.479920</td>\n",
       "      <td>78.690121</td>\n",
       "      <td>111.136101</td>\n",
       "      <td>2.354857</td>\n",
       "      <td>19.431846</td>\n",
       "      <td>19.934491</td>\n",
       "    </tr>\n",
       "    <tr>\n",
       "      <th>157</th>\n",
       "      <td>6</td>\n",
       "      <td>1.594459e+09</td>\n",
       "      <td>0</td>\n",
       "      <td>0</td>\n",
       "      <td>1</td>\n",
       "      <td>1</td>\n",
       "      <td>275.0</td>\n",
       "      <td>2.955675</td>\n",
       "      <td>15.555415</td>\n",
       "      <td>435200.0</td>\n",
       "      <td>...</td>\n",
       "      <td>23</td>\n",
       "      <td>367.299957</td>\n",
       "      <td>367.299957</td>\n",
       "      <td>1.977364</td>\n",
       "      <td>-109.821056</td>\n",
       "      <td>154.059938</td>\n",
       "      <td>189.196007</td>\n",
       "      <td>2.190092</td>\n",
       "      <td>26.496610</td>\n",
       "      <td>40.672392</td>\n",
       "    </tr>\n",
       "    <tr>\n",
       "      <th>158</th>\n",
       "      <td>7</td>\n",
       "      <td>1.594459e+09</td>\n",
       "      <td>0</td>\n",
       "      <td>0</td>\n",
       "      <td>1</td>\n",
       "      <td>1</td>\n",
       "      <td>175.0</td>\n",
       "      <td>2.247239</td>\n",
       "      <td>9.132998</td>\n",
       "      <td>392925.0</td>\n",
       "      <td>...</td>\n",
       "      <td>26</td>\n",
       "      <td>410.551514</td>\n",
       "      <td>410.551514</td>\n",
       "      <td>2.049255</td>\n",
       "      <td>73.930420</td>\n",
       "      <td>-135.317667</td>\n",
       "      <td>154.196557</td>\n",
       "      <td>-1.070762</td>\n",
       "      <td>17.700647</td>\n",
       "      <td>15.672647</td>\n",
       "    </tr>\n",
       "    <tr>\n",
       "      <th>...</th>\n",
       "      <td>...</td>\n",
       "      <td>...</td>\n",
       "      <td>...</td>\n",
       "      <td>...</td>\n",
       "      <td>...</td>\n",
       "      <td>...</td>\n",
       "      <td>...</td>\n",
       "      <td>...</td>\n",
       "      <td>...</td>\n",
       "      <td>...</td>\n",
       "      <td>...</td>\n",
       "      <td>...</td>\n",
       "      <td>...</td>\n",
       "      <td>...</td>\n",
       "      <td>...</td>\n",
       "      <td>...</td>\n",
       "      <td>...</td>\n",
       "      <td>...</td>\n",
       "      <td>...</td>\n",
       "      <td>...</td>\n",
       "      <td>...</td>\n",
       "    </tr>\n",
       "    <tr>\n",
       "      <th>140</th>\n",
       "      <td>464</td>\n",
       "      <td>1.594459e+09</td>\n",
       "      <td>0</td>\n",
       "      <td>0</td>\n",
       "      <td>1</td>\n",
       "      <td>1</td>\n",
       "      <td>150.0</td>\n",
       "      <td>2.104201</td>\n",
       "      <td>9.348372</td>\n",
       "      <td>595425.0</td>\n",
       "      <td>...</td>\n",
       "      <td>24</td>\n",
       "      <td>208.078079</td>\n",
       "      <td>208.078079</td>\n",
       "      <td>1.479378</td>\n",
       "      <td>6.524225</td>\n",
       "      <td>-131.800476</td>\n",
       "      <td>131.961854</td>\n",
       "      <td>-1.521336</td>\n",
       "      <td>13.925589</td>\n",
       "      <td>11.676902</td>\n",
       "    </tr>\n",
       "    <tr>\n",
       "      <th>141</th>\n",
       "      <td>465</td>\n",
       "      <td>1.594459e+09</td>\n",
       "      <td>0</td>\n",
       "      <td>0</td>\n",
       "      <td>1</td>\n",
       "      <td>1</td>\n",
       "      <td>125.0</td>\n",
       "      <td>1.709408</td>\n",
       "      <td>6.119900</td>\n",
       "      <td>565950.0</td>\n",
       "      <td>...</td>\n",
       "      <td>27</td>\n",
       "      <td>237.535767</td>\n",
       "      <td>237.535767</td>\n",
       "      <td>1.518284</td>\n",
       "      <td>-120.716585</td>\n",
       "      <td>66.068097</td>\n",
       "      <td>137.613543</td>\n",
       "      <td>2.640825</td>\n",
       "      <td>31.380057</td>\n",
       "      <td>27.819358</td>\n",
       "    </tr>\n",
       "    <tr>\n",
       "      <th>142</th>\n",
       "      <td>466</td>\n",
       "      <td>1.594459e+09</td>\n",
       "      <td>0</td>\n",
       "      <td>0</td>\n",
       "      <td>1</td>\n",
       "      <td>1</td>\n",
       "      <td>200.0</td>\n",
       "      <td>2.863199</td>\n",
       "      <td>14.532549</td>\n",
       "      <td>427175.0</td>\n",
       "      <td>...</td>\n",
       "      <td>23</td>\n",
       "      <td>376.316254</td>\n",
       "      <td>376.316254</td>\n",
       "      <td>1.918280</td>\n",
       "      <td>-65.480429</td>\n",
       "      <td>181.452107</td>\n",
       "      <td>192.905557</td>\n",
       "      <td>1.917121</td>\n",
       "      <td>19.639810</td>\n",
       "      <td>14.628099</td>\n",
       "    </tr>\n",
       "    <tr>\n",
       "      <th>143</th>\n",
       "      <td>467</td>\n",
       "      <td>1.594459e+09</td>\n",
       "      <td>0</td>\n",
       "      <td>0</td>\n",
       "      <td>1</td>\n",
       "      <td>1</td>\n",
       "      <td>175.0</td>\n",
       "      <td>2.089042</td>\n",
       "      <td>10.237351</td>\n",
       "      <td>720625.0</td>\n",
       "      <td>...</td>\n",
       "      <td>24</td>\n",
       "      <td>81.822815</td>\n",
       "      <td>81.822815</td>\n",
       "      <td>0.953590</td>\n",
       "      <td>-102.139137</td>\n",
       "      <td>-73.734976</td>\n",
       "      <td>125.973211</td>\n",
       "      <td>-2.516315</td>\n",
       "      <td>9.329010</td>\n",
       "      <td>9.093966</td>\n",
       "    </tr>\n",
       "    <tr>\n",
       "      <th>144</th>\n",
       "      <td>468</td>\n",
       "      <td>1.594459e+09</td>\n",
       "      <td>0</td>\n",
       "      <td>0</td>\n",
       "      <td>1</td>\n",
       "      <td>1</td>\n",
       "      <td>150.0</td>\n",
       "      <td>1.851687</td>\n",
       "      <td>7.992733</td>\n",
       "      <td>619075.0</td>\n",
       "      <td>...</td>\n",
       "      <td>21</td>\n",
       "      <td>183.430389</td>\n",
       "      <td>183.430389</td>\n",
       "      <td>1.387976</td>\n",
       "      <td>26.001011</td>\n",
       "      <td>-66.678371</td>\n",
       "      <td>71.568553</td>\n",
       "      <td>-1.198987</td>\n",
       "      <td>18.023860</td>\n",
       "      <td>10.514932</td>\n",
       "    </tr>\n",
       "  </tbody>\n",
       "</table>\n",
       "<p>344 rows × 26 columns</p>\n",
       "</div>"
      ],
      "text/plain": [
       "     event          time  s1_peak  s2_peak  nS1  nS2    S1w       S1h  \\\n",
       "145      2  1.594459e+09        0        0    1    1  200.0  2.119782   \n",
       "155      4  1.594459e+09        0        0    1    1  150.0  1.013140   \n",
       "156      5  1.594459e+09        0        0    1    1  275.0  2.415916   \n",
       "157      6  1.594459e+09        0        0    1    1  275.0  2.955675   \n",
       "158      7  1.594459e+09        0        0    1    1  175.0  2.247239   \n",
       "..     ...           ...      ...      ...  ...  ...    ...       ...   \n",
       "140    464  1.594459e+09        0        0    1    1  150.0  2.104201   \n",
       "141    465  1.594459e+09        0        0    1    1  125.0  1.709408   \n",
       "142    466  1.594459e+09        0        0    1    1  200.0  2.863199   \n",
       "143    467  1.594459e+09        0        0    1    1  175.0  2.089042   \n",
       "144    468  1.594459e+09        0        0    1    1  150.0  1.851687   \n",
       "\n",
       "           S1e       S1t  ...  Nsipm          DT           Z      Zrms  \\\n",
       "145  11.106052  358325.0  ...     29  446.148132  446.148132  2.150228   \n",
       "155   4.501678  674375.0  ...     24  128.132187  128.132187  1.165750   \n",
       "156  12.191276  512750.0  ...     26  290.724640  290.724640  1.765192   \n",
       "157  15.555415  435200.0  ...     23  367.299957  367.299957  1.977364   \n",
       "158   9.132998  392925.0  ...     26  410.551514  410.551514  2.049255   \n",
       "..         ...       ...  ...    ...         ...         ...       ...   \n",
       "140   9.348372  595425.0  ...     24  208.078079  208.078079  1.479378   \n",
       "141   6.119900  565950.0  ...     27  237.535767  237.535767  1.518284   \n",
       "142  14.532549  427175.0  ...     23  376.316254  376.316254  1.918280   \n",
       "143  10.237351  720625.0  ...     24   81.822815   81.822815  0.953590   \n",
       "144   7.992733  619075.0  ...     21  183.430389  183.430389  1.387976   \n",
       "\n",
       "              X           Y           R       Phi       Xrms       Yrms  \n",
       "145  -28.417331   -5.687920   28.980979 -2.944046  27.607322  14.382642  \n",
       "155  119.119204 -110.069629  162.187262 -0.745933  10.190604  18.083337  \n",
       "156  -78.479920   78.690121  111.136101  2.354857  19.431846  19.934491  \n",
       "157 -109.821056  154.059938  189.196007  2.190092  26.496610  40.672392  \n",
       "158   73.930420 -135.317667  154.196557 -1.070762  17.700647  15.672647  \n",
       "..          ...         ...         ...       ...        ...        ...  \n",
       "140    6.524225 -131.800476  131.961854 -1.521336  13.925589  11.676902  \n",
       "141 -120.716585   66.068097  137.613543  2.640825  31.380057  27.819358  \n",
       "142  -65.480429  181.452107  192.905557  1.917121  19.639810  14.628099  \n",
       "143 -102.139137  -73.734976  125.973211 -2.516315   9.329010   9.093966  \n",
       "144   26.001011  -66.678371   71.568553 -1.198987  18.023860  10.514932  \n",
       "\n",
       "[344 rows x 26 columns]"
      ]
     },
     "execution_count": 3,
     "metadata": {},
     "output_type": "execute_result"
    }
   ],
   "source": [
    "### Load files in make R and Zcut\n",
    "dst = load_dsts(input_dsts, 'DST', 'Events')\n",
    "dst = dst.sort_values(by=['time'])\n",
    "\n",
    "### Select events with 1 S1 and 1 S2\n",
    "mask_s1 = dst.nS1==1\n",
    "mask_s2 = np.zeros_like(mask_s1)\n",
    "mask_s2[mask_s1] = dst[mask_s1].nS2 == 1\n",
    "nevts_after      = dst[mask_s2].event.nunique()\n",
    "nevts_before     = dst[mask_s1].event.nunique()\n",
    "eff              = nevts_after / nevts_before\n",
    "print('S2 selection efficiency: ', eff*100, '%')\n",
    "\n",
    "### Band Selection (S2 energy or q selection?)\n",
    "x, y, _ = profileX(dst[mask_s2].Z, dst[mask_s2].S2q, yrange=q_range_plot)\n",
    "e0_seed, lt_seed = expo_seed(x, y)\n",
    "lower_e0, upper_e0 = e0_seed-200, e0_seed+200    # play with these values to make the band broader or narrower\n",
    "\n",
    "sel_krband = np.zeros_like(mask_s2)\n",
    "Zs = dst[mask_s2].Z\n",
    "sel_krband[mask_s2] = in_range(dst[mask_s2].S2q, (lower_e0)*np.exp(Zs/lt_seed), (upper_e0)*np.exp(Zs/lt_seed))\n",
    "dst = dst[sel_krband]\n",
    "dst"
   ]
  },
  {
   "cell_type": "code",
   "execution_count": 4,
   "metadata": {},
   "outputs": [
    {
     "data": {
      "image/png": "[encoded data removed]",
      "text/plain": [
       "<Figure size 432x288 with 1 Axes>"
      ]
     },
     "metadata": {
      "needs_background": "light"
     },
     "output_type": "display_data"
    }
   ],
   "source": [
    "plt.hist2d(dst.X, dst.Y, 20)\n",
    "plt.show()"
   ]
  },
  {
   "cell_type": "code",
   "execution_count": 18,
   "metadata": {},
   "outputs": [
    {
     "data": {
      "text/plain": [
       "array([-200.        , -180.95238095, -161.9047619 , -142.85714286,\n",
       "       -123.80952381, -104.76190476,  -85.71428571,  -66.66666667,\n",
       "        -47.61904762,  -28.57142857,   -9.52380952,    9.52380952,\n",
       "         28.57142857,   47.61904762,   66.66666667,   85.71428571,\n",
       "        104.76190476,  123.80952381,  142.85714286,  161.9047619 ,\n",
       "        180.95238095,  200.        ])"
      ]
     },
     "execution_count": 18,
     "metadata": {},
     "output_type": "execute_result"
    }
   ],
   "source": [
    "zcuts = [0,200,400,600]\n",
    "XYbins = [21,21]\n",
    "xy_range = (-200,200)\n",
    "xybins = np.linspace(*xy_range, XYbins[0]+1)\n",
    "xybins"
   ]
  },
  {
   "cell_type": "code",
   "execution_count": 19,
   "metadata": {},
   "outputs": [],
   "source": [
    "this_map = dst.groupby([pd.cut(dst.X, xybins), pd.cut(dst.Y, xybins)]).S2q.mean().unstack().fillna(0)"
   ]
  },
  {
   "cell_type": "code",
   "execution_count": 21,
   "metadata": {},
   "outputs": [],
   "source": [
    "this_map.columns = [int(round(xybins[i:i+2].mean())) for i in range(len(xybins)-1)] #.rename(columns=xybins, index=xybins)\n",
    "this_map.index = [int(round(xybins[i:i+2].mean())) for i in range(len(xybins)-1)]"
   ]
  },
  {
   "cell_type": "code",
   "execution_count": 27,
   "metadata": {},
   "outputs": [
    {
     "data": {
      "text/plain": [
       "<matplotlib.axes._subplots.AxesSubplot at 0x7ff6efb6c950>"
      ]
     },
     "execution_count": 27,
     "metadata": {},
     "output_type": "execute_result"
    },
    {
     "data": {
      "image/png": "[encoded data removed]",
      "text/plain": [
       "<Figure size 432x288 with 2 Axes>"
      ]
     },
     "metadata": {
      "needs_background": "light"
     },
     "output_type": "display_data"
    }
   ],
   "source": [
    "sns.heatmap(this_map)"
   ]
  },
  {
   "cell_type": "code",
   "execution_count": 12,
   "metadata": {},
   "outputs": [
    {
     "data": {
      "image/png": "[encoded data removed]",
      "text/plain": [
       "<Figure size 432x288 with 1 Axes>"
      ]
     },
     "metadata": {
      "needs_background": "light"
     },
     "output_type": "display_data"
    }
   ],
   "source": [
    "plt.hist2d(dst.Z, dst.S2w, bins=50)\n",
    "plt.xlabel('Z [mm]')\n",
    "plt.ylabel('S2w [microseconds]')\n",
    "plt.show()"
   ]
  },
  {
   "cell_type": "code",
   "execution_count": 15,
   "metadata": {},
   "outputs": [
    {
     "data": {
      "image/png": "[encoded data removed]",
      "text/plain": [
       "<Figure size 432x288 with 1 Axes>"
      ]
     },
     "metadata": {
      "needs_background": "light"
     },
     "output_type": "display_data"
    }
   ],
   "source": [
    "plt.hist2d(dst.S2q, dst.S2w, bins=50)\n",
    "plt.xlabel('Q [mm]')\n",
    "plt.ylabel('S2w [microseconds]')\n",
    "plt.show()"
   ]
  },
  {
   "cell_type": "code",
   "execution_count": null,
   "metadata": {},
   "outputs": [],
   "source": []
  },
  {
   "cell_type": "code",
   "execution_count": 10,
   "metadata": {},
   "outputs": [],
   "source": [
    "bin_widths = [5,10,15,20]\n",
    "s2_bincenter = 802\n",
    "outer_bincenter = 1000\n",
    "s2_windows = []\n",
    "outer_windows = []\n",
    "for i in range(len(bin_widths)):\n",
    "    s2_windows.append([int(s2_bincenter - (bin_widths[i]/2.)), int(s2_bincenter + (bin_widths[i]/2.))])\n",
    "    outer_windows.append([int(outer_bincenter - (bin_widths[i]/2.)), int(outer_bincenter + (bin_widths[i]/2.))])                \n",
    "                      "
   ]
  },
  {
   "cell_type": "code",
   "execution_count": 44,
   "metadata": {},
   "outputs": [
    {
     "data": {
      "text/plain": [
       "(344, 344)"
      ]
     },
     "execution_count": 44,
     "metadata": {},
     "output_type": "execute_result"
    }
   ],
   "source": [
    "len(np.unique(dst.event.to_numpy())), dst.event.count()"
   ]
  },
  {
   "cell_type": "code",
   "execution_count": null,
   "metadata": {},
   "outputs": [],
   "source": []
  }
 ],
 "metadata": {
  "kernelspec": {
   "display_name": "Python 3",
   "language": "python",
   "name": "python3"
  },
  "language_info": {
   "codemirror_mode": {
    "name": "ipython",
    "version": 3
   },
   "file_extension": ".py",
   "mimetype": "text/x-python",
   "name": "python",
   "nbconvert_exporter": "python",
   "pygments_lexer": "ipython3",
   "version": "3.7.9"
  }
 },
 "nbformat": 4,
 "nbformat_minor": 4
}
