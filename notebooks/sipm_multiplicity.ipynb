{
 "cells": [
  {
   "cell_type": "code",
   "execution_count": 1,
   "metadata": {},
   "outputs": [],
   "source": [
    "import numpy as np\n",
    "import pandas as pd\n",
    "import matplotlib.pyplot as plt\n",
    "import glob\n",
    "\n",
    "from invisible_cities.io.dst_io               import load_dst, load_dsts\n",
    "from invisible_cities.core.core_functions     import in_range"
   ]
  },
  {
   "cell_type": "code",
   "execution_count": 2,
   "metadata": {},
   "outputs": [],
   "source": [
    "run_number = 8087 # 0 or negative for MC\n",
    "input_folder       = '/Users/taylorcontreras/Development/Research/nz_studies/data/trigger1/8087/'\n",
    "input_dst_file     = '*.h5'\n",
    "input_dsts         = glob.glob(input_folder + input_dst_file)"
   ]
  },
  {
   "cell_type": "code",
   "execution_count": 3,
   "metadata": {},
   "outputs": [],
   "source": [
    "dst = load_dsts(input_dsts, 'DST', 'Events')\n",
    "dst = dst.sort_values(by=['time'])\n",
    "dst = dst[in_range(dst.R, 0, 200)]"
   ]
  },
  {
   "cell_type": "code",
   "execution_count": 4,
   "metadata": {},
   "outputs": [
    {
     "data": {
      "text/html": [
       "<div>\n",
       "<style scoped>\n",
       "    .dataframe tbody tr th:only-of-type {\n",
       "        vertical-align: middle;\n",
       "    }\n",
       "\n",
       "    .dataframe tbody tr th {\n",
       "        vertical-align: top;\n",
       "    }\n",
       "\n",
       "    .dataframe thead th {\n",
       "        text-align: right;\n",
       "    }\n",
       "</style>\n",
       "<table border=\"1\" class=\"dataframe\">\n",
       "  <thead>\n",
       "    <tr style=\"text-align: right;\">\n",
       "      <th></th>\n",
       "      <th>event</th>\n",
       "      <th>time</th>\n",
       "      <th>s1_peak</th>\n",
       "      <th>s2_peak</th>\n",
       "      <th>nS1</th>\n",
       "      <th>nS2</th>\n",
       "      <th>S1w</th>\n",
       "      <th>S1h</th>\n",
       "      <th>S1e</th>\n",
       "      <th>S1t</th>\n",
       "      <th>...</th>\n",
       "      <th>Nsipm</th>\n",
       "      <th>DT</th>\n",
       "      <th>Z</th>\n",
       "      <th>Zrms</th>\n",
       "      <th>X</th>\n",
       "      <th>Y</th>\n",
       "      <th>R</th>\n",
       "      <th>Phi</th>\n",
       "      <th>Xrms</th>\n",
       "      <th>Yrms</th>\n",
       "    </tr>\n",
       "  </thead>\n",
       "  <tbody>\n",
       "    <tr>\n",
       "      <th>335</th>\n",
       "      <td>1</td>\n",
       "      <td>1.594373e+09</td>\n",
       "      <td>0</td>\n",
       "      <td>0</td>\n",
       "      <td>1</td>\n",
       "      <td>1</td>\n",
       "      <td>200.0</td>\n",
       "      <td>1.007478</td>\n",
       "      <td>5.756931</td>\n",
       "      <td>783700.0</td>\n",
       "      <td>...</td>\n",
       "      <td>21</td>\n",
       "      <td>17.738438</td>\n",
       "      <td>17.738438</td>\n",
       "      <td>0.580566</td>\n",
       "      <td>-171.434799</td>\n",
       "      <td>54.477261</td>\n",
       "      <td>179.882357</td>\n",
       "      <td>2.833912</td>\n",
       "      <td>9.302721</td>\n",
       "      <td>8.737578</td>\n",
       "    </tr>\n",
       "    <tr>\n",
       "      <th>336</th>\n",
       "      <td>2</td>\n",
       "      <td>1.594373e+09</td>\n",
       "      <td>0</td>\n",
       "      <td>0</td>\n",
       "      <td>1</td>\n",
       "      <td>1</td>\n",
       "      <td>225.0</td>\n",
       "      <td>2.770331</td>\n",
       "      <td>11.714249</td>\n",
       "      <td>698350.0</td>\n",
       "      <td>...</td>\n",
       "      <td>21</td>\n",
       "      <td>104.123566</td>\n",
       "      <td>104.123566</td>\n",
       "      <td>1.092191</td>\n",
       "      <td>-90.027995</td>\n",
       "      <td>102.948163</td>\n",
       "      <td>136.760243</td>\n",
       "      <td>2.289342</td>\n",
       "      <td>13.717057</td>\n",
       "      <td>8.692530</td>\n",
       "    </tr>\n",
       "    <tr>\n",
       "      <th>337</th>\n",
       "      <td>3</td>\n",
       "      <td>1.594373e+09</td>\n",
       "      <td>0</td>\n",
       "      <td>0</td>\n",
       "      <td>1</td>\n",
       "      <td>1</td>\n",
       "      <td>125.0</td>\n",
       "      <td>2.029927</td>\n",
       "      <td>7.068951</td>\n",
       "      <td>489075.0</td>\n",
       "      <td>...</td>\n",
       "      <td>21</td>\n",
       "      <td>313.428955</td>\n",
       "      <td>313.428955</td>\n",
       "      <td>1.901445</td>\n",
       "      <td>151.684819</td>\n",
       "      <td>67.979036</td>\n",
       "      <td>166.221039</td>\n",
       "      <td>0.421323</td>\n",
       "      <td>9.679086</td>\n",
       "      <td>9.563363</td>\n",
       "    </tr>\n",
       "    <tr>\n",
       "      <th>338</th>\n",
       "      <td>4</td>\n",
       "      <td>1.594373e+09</td>\n",
       "      <td>0</td>\n",
       "      <td>0</td>\n",
       "      <td>2</td>\n",
       "      <td>1</td>\n",
       "      <td>275.0</td>\n",
       "      <td>1.843737</td>\n",
       "      <td>9.958330</td>\n",
       "      <td>241725.0</td>\n",
       "      <td>...</td>\n",
       "      <td>20</td>\n",
       "      <td>561.769104</td>\n",
       "      <td>561.769104</td>\n",
       "      <td>2.392768</td>\n",
       "      <td>23.926956</td>\n",
       "      <td>140.669777</td>\n",
       "      <td>142.690173</td>\n",
       "      <td>1.402316</td>\n",
       "      <td>9.863980</td>\n",
       "      <td>9.402714</td>\n",
       "    </tr>\n",
       "    <tr>\n",
       "      <th>339</th>\n",
       "      <td>4</td>\n",
       "      <td>1.594373e+09</td>\n",
       "      <td>1</td>\n",
       "      <td>0</td>\n",
       "      <td>2</td>\n",
       "      <td>1</td>\n",
       "      <td>125.0</td>\n",
       "      <td>1.637143</td>\n",
       "      <td>5.706056</td>\n",
       "      <td>737300.0</td>\n",
       "      <td>...</td>\n",
       "      <td>20</td>\n",
       "      <td>66.194069</td>\n",
       "      <td>66.194069</td>\n",
       "      <td>2.392768</td>\n",
       "      <td>23.926956</td>\n",
       "      <td>140.669777</td>\n",
       "      <td>142.690173</td>\n",
       "      <td>1.402316</td>\n",
       "      <td>9.863980</td>\n",
       "      <td>9.402714</td>\n",
       "    </tr>\n",
       "    <tr>\n",
       "      <th>...</th>\n",
       "      <td>...</td>\n",
       "      <td>...</td>\n",
       "      <td>...</td>\n",
       "      <td>...</td>\n",
       "      <td>...</td>\n",
       "      <td>...</td>\n",
       "      <td>...</td>\n",
       "      <td>...</td>\n",
       "      <td>...</td>\n",
       "      <td>...</td>\n",
       "      <td>...</td>\n",
       "      <td>...</td>\n",
       "      <td>...</td>\n",
       "      <td>...</td>\n",
       "      <td>...</td>\n",
       "      <td>...</td>\n",
       "      <td>...</td>\n",
       "      <td>...</td>\n",
       "      <td>...</td>\n",
       "      <td>...</td>\n",
       "      <td>...</td>\n",
       "    </tr>\n",
       "    <tr>\n",
       "      <th>970</th>\n",
       "      <td>931</td>\n",
       "      <td>1.594373e+09</td>\n",
       "      <td>0</td>\n",
       "      <td>0</td>\n",
       "      <td>1</td>\n",
       "      <td>1</td>\n",
       "      <td>300.0</td>\n",
       "      <td>1.342447</td>\n",
       "      <td>10.028561</td>\n",
       "      <td>449975.0</td>\n",
       "      <td>...</td>\n",
       "      <td>20</td>\n",
       "      <td>352.528076</td>\n",
       "      <td>352.528076</td>\n",
       "      <td>1.927268</td>\n",
       "      <td>48.275823</td>\n",
       "      <td>45.712774</td>\n",
       "      <td>66.484681</td>\n",
       "      <td>0.758135</td>\n",
       "      <td>9.327965</td>\n",
       "      <td>22.507462</td>\n",
       "    </tr>\n",
       "    <tr>\n",
       "      <th>971</th>\n",
       "      <td>932</td>\n",
       "      <td>1.594373e+09</td>\n",
       "      <td>0</td>\n",
       "      <td>0</td>\n",
       "      <td>1</td>\n",
       "      <td>1</td>\n",
       "      <td>175.0</td>\n",
       "      <td>2.024436</td>\n",
       "      <td>9.322896</td>\n",
       "      <td>474750.0</td>\n",
       "      <td>...</td>\n",
       "      <td>19</td>\n",
       "      <td>328.749146</td>\n",
       "      <td>328.749146</td>\n",
       "      <td>1.840473</td>\n",
       "      <td>-120.183885</td>\n",
       "      <td>109.303581</td>\n",
       "      <td>162.454421</td>\n",
       "      <td>2.403570</td>\n",
       "      <td>9.571389</td>\n",
       "      <td>8.591657</td>\n",
       "    </tr>\n",
       "    <tr>\n",
       "      <th>972</th>\n",
       "      <td>933</td>\n",
       "      <td>1.594373e+09</td>\n",
       "      <td>0</td>\n",
       "      <td>0</td>\n",
       "      <td>1</td>\n",
       "      <td>1</td>\n",
       "      <td>125.0</td>\n",
       "      <td>2.793600</td>\n",
       "      <td>10.463752</td>\n",
       "      <td>304300.0</td>\n",
       "      <td>...</td>\n",
       "      <td>17</td>\n",
       "      <td>500.181091</td>\n",
       "      <td>500.181091</td>\n",
       "      <td>2.262544</td>\n",
       "      <td>-116.764953</td>\n",
       "      <td>73.538357</td>\n",
       "      <td>137.992552</td>\n",
       "      <td>2.579550</td>\n",
       "      <td>9.666618</td>\n",
       "      <td>9.819195</td>\n",
       "    </tr>\n",
       "    <tr>\n",
       "      <th>973</th>\n",
       "      <td>934</td>\n",
       "      <td>1.594373e+09</td>\n",
       "      <td>0</td>\n",
       "      <td>0</td>\n",
       "      <td>1</td>\n",
       "      <td>1</td>\n",
       "      <td>175.0</td>\n",
       "      <td>2.437902</td>\n",
       "      <td>11.633262</td>\n",
       "      <td>592250.0</td>\n",
       "      <td>...</td>\n",
       "      <td>17</td>\n",
       "      <td>211.253006</td>\n",
       "      <td>211.253006</td>\n",
       "      <td>1.663729</td>\n",
       "      <td>-36.960561</td>\n",
       "      <td>126.401101</td>\n",
       "      <td>131.694045</td>\n",
       "      <td>1.855273</td>\n",
       "      <td>8.063746</td>\n",
       "      <td>8.834935</td>\n",
       "    </tr>\n",
       "    <tr>\n",
       "      <th>974</th>\n",
       "      <td>936</td>\n",
       "      <td>1.594373e+09</td>\n",
       "      <td>0</td>\n",
       "      <td>0</td>\n",
       "      <td>1</td>\n",
       "      <td>1</td>\n",
       "      <td>150.0</td>\n",
       "      <td>1.928308</td>\n",
       "      <td>9.211343</td>\n",
       "      <td>310450.0</td>\n",
       "      <td>...</td>\n",
       "      <td>23</td>\n",
       "      <td>494.029968</td>\n",
       "      <td>494.029968</td>\n",
       "      <td>2.195552</td>\n",
       "      <td>-4.040037</td>\n",
       "      <td>-17.900730</td>\n",
       "      <td>18.350968</td>\n",
       "      <td>-1.792769</td>\n",
       "      <td>12.730727</td>\n",
       "      <td>21.213929</td>\n",
       "    </tr>\n",
       "  </tbody>\n",
       "</table>\n",
       "<p>950 rows × 25 columns</p>\n",
       "</div>"
      ],
      "text/plain": [
       "     event          time  s1_peak  s2_peak  nS1  nS2    S1w       S1h  \\\n",
       "335      1  1.594373e+09        0        0    1    1  200.0  1.007478   \n",
       "336      2  1.594373e+09        0        0    1    1  225.0  2.770331   \n",
       "337      3  1.594373e+09        0        0    1    1  125.0  2.029927   \n",
       "338      4  1.594373e+09        0        0    2    1  275.0  1.843737   \n",
       "339      4  1.594373e+09        1        0    2    1  125.0  1.637143   \n",
       "..     ...           ...      ...      ...  ...  ...    ...       ...   \n",
       "970    931  1.594373e+09        0        0    1    1  300.0  1.342447   \n",
       "971    932  1.594373e+09        0        0    1    1  175.0  2.024436   \n",
       "972    933  1.594373e+09        0        0    1    1  125.0  2.793600   \n",
       "973    934  1.594373e+09        0        0    1    1  175.0  2.437902   \n",
       "974    936  1.594373e+09        0        0    1    1  150.0  1.928308   \n",
       "\n",
       "           S1e       S1t  ...  Nsipm          DT           Z      Zrms  \\\n",
       "335   5.756931  783700.0  ...     21   17.738438   17.738438  0.580566   \n",
       "336  11.714249  698350.0  ...     21  104.123566  104.123566  1.092191   \n",
       "337   7.068951  489075.0  ...     21  313.428955  313.428955  1.901445   \n",
       "338   9.958330  241725.0  ...     20  561.769104  561.769104  2.392768   \n",
       "339   5.706056  737300.0  ...     20   66.194069   66.194069  2.392768   \n",
       "..         ...       ...  ...    ...         ...         ...       ...   \n",
       "970  10.028561  449975.0  ...     20  352.528076  352.528076  1.927268   \n",
       "971   9.322896  474750.0  ...     19  328.749146  328.749146  1.840473   \n",
       "972  10.463752  304300.0  ...     17  500.181091  500.181091  2.262544   \n",
       "973  11.633262  592250.0  ...     17  211.253006  211.253006  1.663729   \n",
       "974   9.211343  310450.0  ...     23  494.029968  494.029968  2.195552   \n",
       "\n",
       "              X           Y           R       Phi       Xrms       Yrms  \n",
       "335 -171.434799   54.477261  179.882357  2.833912   9.302721   8.737578  \n",
       "336  -90.027995  102.948163  136.760243  2.289342  13.717057   8.692530  \n",
       "337  151.684819   67.979036  166.221039  0.421323   9.679086   9.563363  \n",
       "338   23.926956  140.669777  142.690173  1.402316   9.863980   9.402714  \n",
       "339   23.926956  140.669777  142.690173  1.402316   9.863980   9.402714  \n",
       "..          ...         ...         ...       ...        ...        ...  \n",
       "970   48.275823   45.712774   66.484681  0.758135   9.327965  22.507462  \n",
       "971 -120.183885  109.303581  162.454421  2.403570   9.571389   8.591657  \n",
       "972 -116.764953   73.538357  137.992552  2.579550   9.666618   9.819195  \n",
       "973  -36.960561  126.401101  131.694045  1.855273   8.063746   8.834935  \n",
       "974   -4.040037  -17.900730   18.350968 -1.792769  12.730727  21.213929  \n",
       "\n",
       "[950 rows x 25 columns]"
      ]
     },
     "execution_count": 4,
     "metadata": {},
     "output_type": "execute_result"
    }
   ],
   "source": [
    "dst"
   ]
  },
  {
   "cell_type": "code",
   "execution_count": 5,
   "metadata": {},
   "outputs": [
    {
     "data": {
      "text/plain": [
       "Text(0.5, 0, 'Nsipms')"
      ]
     },
     "execution_count": 5,
     "metadata": {},
     "output_type": "execute_result"
    },
    {
     "data": {
      "image/png": "[encoded data removed]",
      "text/plain": [
       "<Figure size 432x288 with 1 Axes>"
      ]
     },
     "metadata": {
      "needs_background": "light"
     },
     "output_type": "display_data"
    }
   ],
   "source": [
    "plt.hist(dst.Nsipm, bins=50)\n",
    "plt.xlabel('Nsipms')"
   ]
  },
  {
   "cell_type": "code",
   "execution_count": 10,
   "metadata": {},
   "outputs": [
    {
     "data": {
      "image/png": "[encoded data removed]",
      "text/plain": [
       "<Figure size 432x288 with 1 Axes>"
      ]
     },
     "metadata": {
      "needs_background": "light"
     },
     "output_type": "display_data"
    }
   ],
   "source": [
    "plt.hist2d(dst.Nsipm, dst.S2q, bins=(20,50), range=[[10,30],[0,1000]])\n",
    "plt.xlabel('Nsipm')\n",
    "plt.ylabel('Q [pes]')\n",
    "plt.show()"
   ]
  },
  {
   "cell_type": "code",
   "execution_count": 7,
   "metadata": {},
   "outputs": [
    {
     "data": {
      "image/png": "[encoded data removed]",
      "text/plain": [
       "<Figure size 432x288 with 1 Axes>"
      ]
     },
     "metadata": {
      "needs_background": "light"
     },
     "output_type": "display_data"
    }
   ],
   "source": [
    "plt.hist2d(dst.Z, dst.Nsipm, bins=(50,50), range=[[0,600],[0,50]])\n",
    "plt.xlabel('Z [mm]')\n",
    "plt.ylabel('Nsipm')\n",
    "plt.show()"
   ]
  },
  {
   "cell_type": "code",
   "execution_count": 8,
   "metadata": {},
   "outputs": [
    {
     "data": {
      "image/png": "[encoded data removed]",
      "text/plain": [
       "<Figure size 432x288 with 1 Axes>"
      ]
     },
     "metadata": {
      "needs_background": "light"
     },
     "output_type": "display_data"
    }
   ],
   "source": [
    "plt.hist2d(dst.R, dst.Nsipm, bins=(50,50), range=[[0,200],[0,50]])\n",
    "plt.xlabel('R [mm]')\n",
    "plt.ylabel('Nsipm')\n",
    "plt.show()"
   ]
  },
  {
   "cell_type": "code",
   "execution_count": 11,
   "metadata": {},
   "outputs": [],
   "source": [
    "from scipy import stats"
   ]
  },
  {
   "cell_type": "code",
   "execution_count": 12,
   "metadata": {},
   "outputs": [],
   "source": [
    "slope, intercept, r_value, p_value, std_err = stats.linregress(dst.Nsipm, dst.S2q)"
   ]
  },
  {
   "cell_type": "code",
   "execution_count": 29,
   "metadata": {},
   "outputs": [
    {
     "data": {
      "image/png": "[encoded data removed]",
      "text/plain": [
       "<Figure size 432x288 with 1 Axes>"
      ]
     },
     "metadata": {
      "needs_background": "light"
     },
     "output_type": "display_data"
    }
   ],
   "source": [
    "nsipm_range = np.array([10,30])\n",
    "plt.hist2d(dst.Nsipm, dst.S2q, bins=(20,50), range=[nsipm_range,[0,800]])\n",
    "plt.plot(nsipm_range, intercept + slope*nsipm_range, 'r', label=\"y={0:.1f}x+{1:.1f}\".format(slope,intercept))\n",
    "plt.xlabel('Nsipm')\n",
    "plt.ylabel('Q [pes]')\n",
    "plt.legend()\n",
    "plt.show()"
   ]
  },
  {
   "cell_type": "code",
   "execution_count": 28,
   "metadata": {},
   "outputs": [
    {
     "data": {
      "image/png": "[encoded data removed]",
      "text/plain": [
       "<Figure size 432x288 with 1 Axes>"
      ]
     },
     "metadata": {
      "needs_background": "light"
     },
     "output_type": "display_data"
    }
   ],
   "source": [
    "# Corrected\n",
    "plt.hist2d(dst.Nsipm, dst.S2q/(1 + (slope/intercept)*dst.Nsipm), bins=(20,50), range=[nsipm_range,[0,800]])\n",
    "plt.xlabel('Nsipm')\n",
    "plt.ylabel('Q [pes]')\n",
    "plt.title('Corrected SiPM Multiplicity')\n",
    "plt.show()"
   ]
  },
  {
   "cell_type": "code",
   "execution_count": 33,
   "metadata": {},
   "outputs": [
    {
     "data": {
      "image/png": "[encoded data removed]",
      "text/plain": [
       "<Figure size 432x288 with 1 Axes>"
      ]
     },
     "metadata": {
      "needs_background": "light"
     },
     "output_type": "display_data"
    }
   ],
   "source": [
    "q_range = (0,1000)\n",
    "bins = 50\n",
    "plt.hist(dst.S2q, bins=bins, range=q_range, label='Raw')\n",
    "plt.hist(dst.S2q/(1 + (slope/intercept)*dst.Nsipm), label='Nsipm corr', bins=bins, range=q_range)\n",
    "plt.legend()\n",
    "plt.show()"
   ]
  },
  {
   "cell_type": "code",
   "execution_count": null,
   "metadata": {},
   "outputs": [],
   "source": []
  }
 ],
 "metadata": {
  "kernelspec": {
   "display_name": "Python 3",
   "language": "python",
   "name": "python3"
  },
  "language_info": {
   "codemirror_mode": {
    "name": "ipython",
    "version": 3
   },
   "file_extension": ".py",
   "mimetype": "text/x-python",
   "name": "python",
   "nbconvert_exporter": "python",
   "pygments_lexer": "ipython3",
   "version": "3.7.9"
  }
 },
 "nbformat": 4,
 "nbformat_minor": 4
}
