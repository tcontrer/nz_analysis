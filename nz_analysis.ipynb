{
 "cells": [
  {
   "cell_type": "markdown",
   "metadata": {},
   "source": [
    "# Analysis of raw non-zero suppressed data\n",
    "### Non-zero suppressed runs: 8088, 8089"
   ]
  },
  {
   "cell_type": "code",
   "execution_count": null,
   "metadata": {},
   "outputs": [],
   "source": [
    "from invisible_cities.cities import components as cp\n",
    "\n",
    "import numpy as np\n",
    "import matplotlib.pyplot as plt"
   ]
  },
  {
   "cell_type": "markdown",
   "metadata": {},
   "source": [
    "### Variables to grab runs"
   ]
  },
  {
   "cell_type": "code",
   "execution_count": null,
   "metadata": {},
   "outputs": [],
   "source": [
    "num_files = 3\n",
    "run_number = 8088\n",
    "num_plots = 3\n",
    "data_dir = 'data/trigger1/'+str(run_number)+'/'\n",
    "file_start = 'run_'+str(run_number)+'_000'\n",
    "file_end = '_trigger1_waveforms.h5'\n",
    "files = [data_dir+file_start+str(i+1)+file_end for i in range(0,num_files)]"
   ]
  },
  {
   "cell_type": "markdown",
   "metadata": {},
   "source": [
    "### Print File Format"
   ]
  },
  {
   "cell_type": "code",
   "execution_count": null,
   "metadata": {},
   "outputs": [],
   "source": [
    "i = 0\n",
    "wfs = cp.wf_from_files(files, cp.WfType.rwf)\n",
    "try:\n",
    "    while wfs and i < 1:\n",
    "        thisdata = next(wfs)\n",
    "        keys = thisdata.keys()\n",
    "        print('Keys:', keys)\n",
    "        for key in keys:\n",
    "            print(key, type(thisdata[key]))\n",
    "            print('    ', np.shape(thisdata[key]))\n",
    "            print('              ', thisdata[key])\n",
    "        i += 1\n",
    "except StopIteration:\n",
    "    pass\n",
    "finally:\n",
    "    del wfs"
   ]
  },
  {
   "cell_type": "markdown",
   "metadata": {},
   "source": [
    "### Collect data into numpy array"
   ]
  },
  {
   "cell_type": "code",
   "execution_count": null,
   "metadata": {},
   "outputs": [],
   "source": [
    "i = 0\n",
    "events = []\n",
    "wfs = cp.wf_from_files(files, cp.WfType.rwf)\n",
    "try:\n",
    "    while wfs:\n",
    "        thisdata = next(wfs)\n",
    "        events.append(thisdata['sipm'])\n",
    "        i += 1\n",
    "except StopIteration:\n",
    "    pass\n",
    "finally:\n",
    "    del wfs\n",
    "events = np.array(events)\n",
    "print('Number of Events: '+str(len(events)))"
   ]
  },
  {
   "cell_type": "code",
   "execution_count": null,
   "metadata": {},
   "outputs": [],
   "source": [
    "# Plotting a few raw waveforms, without any corrections\n",
    "for event in range(0,num_plots):\n",
    "    summed_sipms = np.sum(events[event], axis=1)\n",
    "    for sipm in events[event]:\n",
    "        plt.plot(sipm)\n",
    "    plt.xlabel(r'time bin [$\\mu$s]')\n",
    "    plt.ylabel('SiPM signal [ADC]')\n",
    "    plt.title('Raw waveforms, uncorrected, Run '+str(run_number)+', Event '+str(event))\n",
    "    #plt.xlim(640,660)\n",
    "    #plt.ylim(60000,100000)\n",
    "    plt.show()"
   ]
  },
  {
   "cell_type": "markdown",
   "metadata": {},
   "source": [
    "### Finding the noisy SiPMs"
   ]
  },
  {
   "cell_type": "code",
   "execution_count": null,
   "metadata": {},
   "outputs": [],
   "source": [
    "pedestals = np.mean(events, axis=2) # shape: (events, sipms)\n",
    "event_std = np.std(events, axis=2) # shape: (events, sipms)"
   ]
  },
  {
   "cell_type": "code",
   "execution_count": null,
   "metadata": {},
   "outputs": [],
   "source": [
    "plt.plot(np.mean(pedestals, axis=0))\n",
    "plt.xlabel('SiPM')\n",
    "plt.ylabel('Mean signal')\n",
    "plt.show()\n",
    "\n",
    "plt.plot(np.mean(event_std, axis=0))\n",
    "plt.xlabel('SiPM')\n",
    "plt.ylabel('mean std of events')\n",
    "plt.show()"
   ]
  },
  {
   "cell_type": "code",
   "execution_count": null,
   "metadata": {},
   "outputs": [],
   "source": [
    "bad_sipms = []\n",
    "for event in range(0,len(events)):\n",
    "    for sipm in range(len(events[event])):\n",
    "        mean = np.mean(events[event][sipm])\n",
    "        std = np.std(events[event][sipm])\n",
    "        if mean > 70 or std > 70:\n",
    "            bad_sipms.append(sipm)\n",
    "\n",
    "worst_sipms = []\n",
    "for sipm in np.unique(bad_sipms):\n",
    "    count = np.count_nonzero(bad_sipms == sipm)\n",
    "    print('SiPM '+str(sipm)+' suspicious in '+str(count)+' events')\n",
    "    if count == len(events):\n",
    "        worst_sipms.append(sipm)\n",
    "print(worst_sipms)"
   ]
  },
  {
   "cell_type": "code",
   "execution_count": null,
   "metadata": {},
   "outputs": [],
   "source": [
    "# Plotting a few raw waveforms, without any corrections\n",
    "for event in range(0,num_plots):\n",
    "    for sipm in range(len(events[event])):\n",
    "        if sipm not in worst_sipms:\n",
    "            plt.plot(events[event][sipm])\n",
    "    plt.xlabel(r'time bin [$\\mu$s]')\n",
    "    plt.ylabel('SiPM signal [ADC]')\n",
    "    plt.title('Raw waveforms, uncorrected, Run '+str(run_number)+', Event '+str(event))\n",
    "    #plt.xlim(640,660)\n",
    "    #plt.ylim(60000,100000)\n",
    "    plt.show()"
   ]
  },
  {
   "cell_type": "markdown",
   "metadata": {},
   "source": [
    "### Find and remove pedestal"
   ]
  },
  {
   "cell_type": "code",
   "execution_count": null,
   "metadata": {},
   "outputs": [],
   "source": [
    "#pedestals = np.mean(events, axis=2) # shape: (events, sipms)\n",
    "events = events - pedestals[:,:,np.newaxis]"
   ]
  },
  {
   "cell_type": "code",
   "execution_count": null,
   "metadata": {},
   "outputs": [],
   "source": [
    "# Plotting a few raw waveforms, pedestal subtracted\n",
    "for event in range(0,num_plots):\n",
    "    for sipm in range(len(events[event])):\n",
    "        if sipm not in worst_sipms:\n",
    "            plt.plot(events[event][sipm])\n",
    "    plt.xlabel(r'time bin [$\\mu$s]')\n",
    "    plt.ylabel('SiPM signal [ADC]')\n",
    "    plt.title('Raw waveforms, pedestal subtracted, Run '+str(run_number)+', Event '+str(event))\n",
    "    #plt.xlim(640,660)\n",
    "    #plt.ylim(60000,100000)\n",
    "    plt.show()"
   ]
  },
  {
   "cell_type": "markdown",
   "metadata": {},
   "source": [
    "### Determine single pe calibration"
   ]
  },
  {
   "cell_type": "code",
   "execution_count": null,
   "metadata": {},
   "outputs": [],
   "source": [
    "# Plotting a few raw waveforms, pedestal subtracted\n",
    "for event in range(0,num_plots):\n",
    "    for sipm in range(0,10):\n",
    "        if sipm not in worst_sipms:\n",
    "            plt.plot(events[event][sipm], 'o')\n",
    "    plt.xlabel(r'time bin [$\\mu$s]')\n",
    "    plt.ylabel('SiPM signal [ADC]')\n",
    "    plt.title('Raw waveforms, pedestal subtracted, Run '+str(run_number)+', Event '+str(event))\n",
    "    plt.xlim(0,10)\n",
    "    #plt.ylim(-10,10)\n",
    "    plt.show()\n",
    "    print(events[event][sipm])"
   ]
  },
  {
   "cell_type": "code",
   "execution_count": null,
   "metadata": {},
   "outputs": [],
   "source": []
  }
 ],
 "metadata": {
  "kernelspec": {
   "display_name": "Python 3",
   "language": "python",
   "name": "python3"
  },
  "language_info": {
   "codemirror_mode": {
    "name": "ipython",
    "version": 3
   },
   "file_extension": ".py",
   "mimetype": "text/x-python",
   "name": "python",
   "nbconvert_exporter": "python",
   "pygments_lexer": "ipython3",
   "version": "3.7.9"
  }
 },
 "nbformat": 4,
 "nbformat_minor": 4
}
